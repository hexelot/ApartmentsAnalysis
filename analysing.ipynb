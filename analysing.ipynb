{
 "cells": [
  {
   "cell_type": "markdown",
   "id": "dc1663dc",
   "metadata": {},
   "source": [
    "# Analysis of Apartmets for Sale in Baku"
   ]
  },
  {
   "cell_type": "markdown",
   "id": "4afc2467",
   "metadata": {},
   "source": [
    "---------------------------------------"
   ]
  },
  {
   "cell_type": "code",
   "execution_count": 1,
   "id": "e8810824",
   "metadata": {},
   "outputs": [],
   "source": [
    "import pandas as pd\n",
    "import numpy as np\n",
    "import matplotlib.pyplot as plt"
   ]
  },
  {
   "cell_type": "code",
   "execution_count": 2,
   "id": "7019f2b4",
   "metadata": {},
   "outputs": [
    {
     "data": {
      "text/html": [
       "<div>\n",
       "<style scoped>\n",
       "    .dataframe tbody tr th:only-of-type {\n",
       "        vertical-align: middle;\n",
       "    }\n",
       "\n",
       "    .dataframe tbody tr th {\n",
       "        vertical-align: top;\n",
       "    }\n",
       "\n",
       "    .dataframe thead th {\n",
       "        text-align: right;\n",
       "    }\n",
       "</style>\n",
       "<table border=\"1\" class=\"dataframe\">\n",
       "  <thead>\n",
       "    <tr style=\"text-align: right;\">\n",
       "      <th></th>\n",
       "      <th>ID</th>\n",
       "      <th>Seller</th>\n",
       "      <th>Category</th>\n",
       "      <th>Locations</th>\n",
       "      <th>Price</th>\n",
       "      <th>Currency</th>\n",
       "      <th>Rooms</th>\n",
       "      <th>Area</th>\n",
       "      <th>Floor</th>\n",
       "    </tr>\n",
       "  </thead>\n",
       "  <tbody>\n",
       "    <tr>\n",
       "      <th>0</th>\n",
       "      <td>2827728</td>\n",
       "      <td>Owner</td>\n",
       "      <td>Kohna tikili</td>\n",
       "      <td>[Memar Acami m., Nasimi r., 4-cu mikrorayon q.]</td>\n",
       "      <td>89500</td>\n",
       "      <td>AZN</td>\n",
       "      <td>2</td>\n",
       "      <td>45.0</td>\n",
       "      <td>3</td>\n",
       "    </tr>\n",
       "    <tr>\n",
       "      <th>1</th>\n",
       "      <td>2760725</td>\n",
       "      <td>Agentlik</td>\n",
       "      <td>Yeni tikili</td>\n",
       "      <td>[Binaqadi r., Bilacari q.]</td>\n",
       "      <td>75653</td>\n",
       "      <td>AZN</td>\n",
       "      <td>2</td>\n",
       "      <td>72.1</td>\n",
       "      <td>2</td>\n",
       "    </tr>\n",
       "    <tr>\n",
       "      <th>2</th>\n",
       "      <td>2872711</td>\n",
       "      <td>Owner</td>\n",
       "      <td>Yeni tikili</td>\n",
       "      <td>[Narimanov r.]</td>\n",
       "      <td>155000</td>\n",
       "      <td>AZN</td>\n",
       "      <td>2</td>\n",
       "      <td>97.0</td>\n",
       "      <td>9</td>\n",
       "    </tr>\n",
       "    <tr>\n",
       "      <th>3</th>\n",
       "      <td>2881028</td>\n",
       "      <td>Agentlik</td>\n",
       "      <td>Yeni tikili</td>\n",
       "      <td>[Xatai r.]</td>\n",
       "      <td>86500</td>\n",
       "      <td>AZN</td>\n",
       "      <td>2</td>\n",
       "      <td>71.0</td>\n",
       "      <td>5</td>\n",
       "    </tr>\n",
       "    <tr>\n",
       "      <th>4</th>\n",
       "      <td>2898312</td>\n",
       "      <td>Owner</td>\n",
       "      <td>Kohna tikili</td>\n",
       "      <td>[Nizami r., 8-ci kilometr q.]</td>\n",
       "      <td>85000</td>\n",
       "      <td>AZN</td>\n",
       "      <td>2</td>\n",
       "      <td>45.0</td>\n",
       "      <td>2</td>\n",
       "    </tr>\n",
       "  </tbody>\n",
       "</table>\n",
       "</div>"
      ],
      "text/plain": [
       "        ID    Seller      Category  \\\n",
       "0  2827728     Owner  Kohna tikili   \n",
       "1  2760725  Agentlik   Yeni tikili   \n",
       "2  2872711     Owner   Yeni tikili   \n",
       "3  2881028  Agentlik   Yeni tikili   \n",
       "4  2898312     Owner  Kohna tikili   \n",
       "\n",
       "                                         Locations   Price Currency  Rooms  \\\n",
       "0  [Memar Acami m., Nasimi r., 4-cu mikrorayon q.]   89500      AZN      2   \n",
       "1                       [Binaqadi r., Bilacari q.]   75653      AZN      2   \n",
       "2                                   [Narimanov r.]  155000      AZN      2   \n",
       "3                                       [Xatai r.]   86500      AZN      2   \n",
       "4                    [Nizami r., 8-ci kilometr q.]   85000      AZN      2   \n",
       "\n",
       "   Area  Floor  \n",
       "0  45.0      3  \n",
       "1  72.1      2  \n",
       "2  97.0      9  \n",
       "3  71.0      5  \n",
       "4  45.0      2  "
      ]
     },
     "execution_count": 2,
     "metadata": {},
     "output_type": "execute_result"
    }
   ],
   "source": [
    "df = pd.read_csv('./data.csv', converters={'Locations': pd.eval})\n",
    "df.head(5)"
   ]
  },
  {
   "cell_type": "code",
   "execution_count": 3,
   "id": "4594941a",
   "metadata": {},
   "outputs": [],
   "source": [
    "pd.set_option('display.max_rows', None) # to display all rows completely"
   ]
  },
  {
   "cell_type": "code",
   "execution_count": 4,
   "id": "f5d6e595",
   "metadata": {},
   "outputs": [
    {
     "data": {
      "text/html": [
       "<div>\n",
       "<style scoped>\n",
       "    .dataframe tbody tr th:only-of-type {\n",
       "        vertical-align: middle;\n",
       "    }\n",
       "\n",
       "    .dataframe tbody tr th {\n",
       "        vertical-align: top;\n",
       "    }\n",
       "\n",
       "    .dataframe thead th {\n",
       "        text-align: right;\n",
       "    }\n",
       "</style>\n",
       "<table border=\"1\" class=\"dataframe\">\n",
       "  <thead>\n",
       "    <tr style=\"text-align: right;\">\n",
       "      <th></th>\n",
       "      <th>ID</th>\n",
       "      <th>Price</th>\n",
       "      <th>Rooms</th>\n",
       "      <th>Area</th>\n",
       "      <th>Floor</th>\n",
       "    </tr>\n",
       "  </thead>\n",
       "  <tbody>\n",
       "    <tr>\n",
       "      <th>count</th>\n",
       "      <td>2.784900e+04</td>\n",
       "      <td>2.784900e+04</td>\n",
       "      <td>27849.00000</td>\n",
       "      <td>27849.000000</td>\n",
       "      <td>27849.000000</td>\n",
       "    </tr>\n",
       "    <tr>\n",
       "      <th>mean</th>\n",
       "      <td>2.830468e+06</td>\n",
       "      <td>2.048658e+05</td>\n",
       "      <td>2.82854</td>\n",
       "      <td>119.518934</td>\n",
       "      <td>8.024848</td>\n",
       "    </tr>\n",
       "    <tr>\n",
       "      <th>std</th>\n",
       "      <td>2.217638e+05</td>\n",
       "      <td>1.829435e+05</td>\n",
       "      <td>0.95033</td>\n",
       "      <td>1259.504222</td>\n",
       "      <td>4.969964</td>\n",
       "    </tr>\n",
       "    <tr>\n",
       "      <th>min</th>\n",
       "      <td>2.494300e+04</td>\n",
       "      <td>9.900000e+01</td>\n",
       "      <td>1.00000</td>\n",
       "      <td>12.000000</td>\n",
       "      <td>1.000000</td>\n",
       "    </tr>\n",
       "    <tr>\n",
       "      <th>25%</th>\n",
       "      <td>2.840979e+06</td>\n",
       "      <td>1.100000e+05</td>\n",
       "      <td>2.00000</td>\n",
       "      <td>70.000000</td>\n",
       "      <td>4.000000</td>\n",
       "    </tr>\n",
       "    <tr>\n",
       "      <th>50%</th>\n",
       "      <td>2.887768e+06</td>\n",
       "      <td>1.580000e+05</td>\n",
       "      <td>3.00000</td>\n",
       "      <td>96.200000</td>\n",
       "      <td>7.000000</td>\n",
       "    </tr>\n",
       "    <tr>\n",
       "      <th>75%</th>\n",
       "      <td>2.903138e+06</td>\n",
       "      <td>2.400000e+05</td>\n",
       "      <td>3.00000</td>\n",
       "      <td>135.000000</td>\n",
       "      <td>12.000000</td>\n",
       "    </tr>\n",
       "    <tr>\n",
       "      <th>max</th>\n",
       "      <td>2.917435e+06</td>\n",
       "      <td>4.665000e+06</td>\n",
       "      <td>19.00000</td>\n",
       "      <td>161000.000000</td>\n",
       "      <td>27.000000</td>\n",
       "    </tr>\n",
       "  </tbody>\n",
       "</table>\n",
       "</div>"
      ],
      "text/plain": [
       "                 ID         Price        Rooms           Area         Floor\n",
       "count  2.784900e+04  2.784900e+04  27849.00000   27849.000000  27849.000000\n",
       "mean   2.830468e+06  2.048658e+05      2.82854     119.518934      8.024848\n",
       "std    2.217638e+05  1.829435e+05      0.95033    1259.504222      4.969964\n",
       "min    2.494300e+04  9.900000e+01      1.00000      12.000000      1.000000\n",
       "25%    2.840979e+06  1.100000e+05      2.00000      70.000000      4.000000\n",
       "50%    2.887768e+06  1.580000e+05      3.00000      96.200000      7.000000\n",
       "75%    2.903138e+06  2.400000e+05      3.00000     135.000000     12.000000\n",
       "max    2.917435e+06  4.665000e+06     19.00000  161000.000000     27.000000"
      ]
     },
     "execution_count": 4,
     "metadata": {},
     "output_type": "execute_result"
    }
   ],
   "source": [
    "df.describe()"
   ]
  },
  {
   "cell_type": "markdown",
   "id": "503c5a8b",
   "metadata": {},
   "source": [
    "#### Remove duplicate rows if they exist"
   ]
  },
  {
   "cell_type": "code",
   "execution_count": 5,
   "id": "6b5027f1",
   "metadata": {},
   "outputs": [],
   "source": [
    "if len(df) - len(df['ID'].unique()) != 0:\n",
    "    df = df.drop_duplicates(subset=['ID'])"
   ]
  },
  {
   "cell_type": "markdown",
   "id": "c916664b",
   "metadata": {},
   "source": [
    "#### Convert prices in USD to AZN if they exist"
   ]
  },
  {
   "cell_type": "code",
   "execution_count": 6,
   "id": "ea628839",
   "metadata": {},
   "outputs": [],
   "source": [
    "if 'USD' in df['Currency'].unique():\n",
    "    df.loc[df['Currency'] == 'USD', 'Price'] = df['Price']*1.7\n",
    "    df.loc[df['Currency'] == 'USD', 'Currency'] = 'AZN'"
   ]
  },
  {
   "cell_type": "code",
   "execution_count": 7,
   "id": "09bfafad",
   "metadata": {},
   "outputs": [
    {
     "data": {
      "text/plain": [
       "Yasamal r.               5523\n",
       "Nasimi r.                4545\n",
       "Xatai r.                 4298\n",
       "Narimanov r.             3359\n",
       "Nizami r.                1902\n",
       "Binaqadi r.              1773\n",
       "Yeni Yasamal q.          1272\n",
       "Inshaatchilar m.         1266\n",
       "Sabail r.                1192\n",
       "Shah Ismayil Xatai m.    1164\n",
       "Yasamal q.               1015\n",
       "Ahmadli q.                989\n",
       "Elmlar Akademiyasi m.     971\n",
       "Nariman Narimanov m.      957\n",
       "Hazi Aslanov m.           907\n",
       "Memar Acami m.            894\n",
       "28 May m.                 815\n",
       "8-ci kilometr q.          732\n",
       "Qara Qarayev m.           693\n",
       "Nizami m.                 658\n",
       "Ahmadli m.                634\n",
       "20 Yanvar m.              595\n",
       "9-cu mikrorayon q.        518\n",
       "Neftchilar m.             498\n",
       "Hazi Aslanov q.           470\n",
       "8-ci mikrorayon q.        427\n",
       "Ganclik m.                424\n",
       "Sahil m.                  388\n",
       "Xalqlar Dostlugu m.       378\n",
       "Absheron r.               375\n",
       "8 Noyabr m.               373\n",
       "4-cu mikrorayon q.        347\n",
       "Sabunchu r.               343\n",
       "Azadliq Prospekti m.      335\n",
       "Suraxani r.               334\n",
       "Masazir q.                299\n",
       "Badamdar q.               291\n",
       "Ichari Shahar m.          289\n",
       "Bakixanov q.              254\n",
       "7-ci mikrorayon q.        228\n",
       "Nasimi m.                 195\n",
       "Bayil q.                  190\n",
       "3-cu mikrorayon q.        160\n",
       "Ag shahar q.              159\n",
       "Yeni Gunashli q.          128\n",
       "6-ci mikrorayon q.        122\n",
       "5-ci mikrorayon q.        111\n",
       "Bilacari q.                90\n",
       "1-ci mikrorayon q.         86\n",
       "Kohna Gunashli q.          85\n",
       "Hovsan q.                  83\n",
       "2-ci mikrorayon q.         60\n",
       "Qarachuxur q.              51\n",
       "Qaradag r.                 50\n",
       "Kubinka q.                 43\n",
       "Nardaran q.                40\n",
       "Darnagul m.                40\n",
       "M.A.Rasulzada q.           37\n",
       "Xazar r.                   37\n",
       "Lokbatan q.                34\n",
       "Koroglu m.                 29\n",
       "Avtovagzal m.              29\n",
       "Binaqadi q.                16\n",
       "Xutor q.                   15\n",
       "Mammadli q.                14\n",
       "Buzovna q.                 13\n",
       "Mehdiabad q.               12\n",
       "Boyukshor q.               12\n",
       "Gunashli q.                12\n",
       "Massiv D q.                11\n",
       "Ceyranbatan q.             10\n",
       "Zig q.                     10\n",
       "20-ci saha q.               9\n",
       "NZS q.                      9\n",
       "Bina q.                     7\n",
       "Bakmil m.                   7\n",
       "Mardakan q.                 7\n",
       "Zabrat q.                   6\n",
       "Amircan q.                  6\n",
       "Yeni Suraxani q.            5\n",
       "Sahil q.                    5\n",
       "Sabunchu q.                 5\n",
       "Massiv A q.                 4\n",
       "Mashtaga q.                 4\n",
       "Keshla q.                   4\n",
       "Massiv V q.                 3\n",
       "Alat q.                     3\n",
       "Ulduz m.                    3\n",
       "Hokmali q.                  2\n",
       "Pirallahi r.                2\n",
       "Shixov q.                   2\n",
       "Novxani q.                  2\n",
       "28 May q.                   2\n",
       "Suraxani q.                 2\n",
       "Saray q.                    2\n",
       "Sangachal q.                2\n",
       "Qobustan q.                 1\n",
       "Yeni Ramana q.              1\n",
       "Shimal DRES q.              1\n",
       "Bulbula q.                  1\n",
       "Mushfiqabad q.              1\n",
       "Xocasan q.                  1\n",
       "Massiv B q.                 1\n",
       "Ramana q.                   1\n",
       "Sulutapa q.                 1\n",
       "Name: Locations, dtype: int64"
      ]
     },
     "execution_count": 7,
     "metadata": {},
     "output_type": "execute_result"
    }
   ],
   "source": [
    "df['Locations'].explode().value_counts()"
   ]
  },
  {
   "cell_type": "code",
   "execution_count": 8,
   "id": "d62ae967",
   "metadata": {},
   "outputs": [],
   "source": [
    "# df.loc[df['Floor'] == max(df['Floor'])]"
   ]
  },
  {
   "cell_type": "code",
   "execution_count": 30,
   "id": "cec660e6",
   "metadata": {},
   "outputs": [
    {
     "data": {
      "image/png": "[encoded data removed]",
      "text/plain": [
       "<Figure size 720x1440 with 1 Axes>"
      ]
     },
     "metadata": {
      "needs_background": "light"
     },
     "output_type": "display_data"
    }
   ],
   "source": [
    "locs = df['Locations'].explode().value_counts()\n",
    "\n",
    "locs = dict(locs)\n",
    "lists = sorted(locs.items()) # sorted by key, return a list of tuples\n",
    "x, y = zip(*lists) # unpack a list of pairs into two tuples\n",
    "\n",
    "plt.figure(figsize=(10,20))\n",
    "plt.barh(x, y)\n",
    "plt.title(\"Num of Houses in each region\")\n",
    "plt.xlabel(\"Counts\")\n",
    "plt.ylabel(\"Regions\")\n",
    "plt.show()"
   ]
  },
  {
   "cell_type": "code",
   "execution_count": 64,
   "id": "db2c4544",
   "metadata": {},
   "outputs": [
    {
     "ename": "KeyError",
     "evalue": "'False: boolean label can not be used without a boolean index'",
     "output_type": "error",
     "traceback": [
      "\u001b[1;31m---------------------------------------------------------------------------\u001b[0m",
      "\u001b[1;31mKeyError\u001b[0m                                  Traceback (most recent call last)",
      "Input \u001b[1;32mIn [64]\u001b[0m, in \u001b[0;36m<cell line: 1>\u001b[1;34m()\u001b[0m\n\u001b[1;32m----> 1\u001b[0m rayon \u001b[38;5;241m=\u001b[39m \u001b[43mdf\u001b[49m\u001b[38;5;241;43m.\u001b[39;49m\u001b[43mloc\u001b[49m\u001b[43m[\u001b[49m\u001b[38;5;124;43m'\u001b[39;49m\u001b[38;5;124;43mm.\u001b[39;49m\u001b[38;5;124;43m'\u001b[39;49m\u001b[43m \u001b[49m\u001b[38;5;129;43;01min\u001b[39;49;00m\u001b[43m \u001b[49m\u001b[43m[\u001b[49m\u001b[43mx\u001b[49m\u001b[43m[\u001b[49m\u001b[38;5;241;43m-\u001b[39;49m\u001b[38;5;241;43m2\u001b[39;49m\u001b[43m:\u001b[49m\u001b[43m]\u001b[49m\u001b[43m \u001b[49m\u001b[38;5;28;43;01mfor\u001b[39;49;00m\u001b[43m \u001b[49m\u001b[43mx\u001b[49m\u001b[43m \u001b[49m\u001b[38;5;129;43;01min\u001b[39;49;00m\u001b[43m \u001b[49m\u001b[43mdf\u001b[49m\u001b[43m[\u001b[49m\u001b[38;5;124;43m'\u001b[39;49m\u001b[38;5;124;43mLocations\u001b[39;49m\u001b[38;5;124;43m'\u001b[39;49m\u001b[43m]\u001b[49m\u001b[38;5;241;43m.\u001b[39;49m\u001b[43mtolist\u001b[49m\u001b[43m(\u001b[49m\u001b[43m)\u001b[49m\u001b[43m]\u001b[49m\u001b[43m]\u001b[49m\n\u001b[0;32m      2\u001b[0m rayon\n",
      "File \u001b[1;32mc:\\users\\dolbosvilli\\appdata\\local\\programs\\python\\python38\\lib\\site-packages\\pandas\\core\\indexing.py:967\u001b[0m, in \u001b[0;36m_LocationIndexer.__getitem__\u001b[1;34m(self, key)\u001b[0m\n\u001b[0;32m    964\u001b[0m axis \u001b[38;5;241m=\u001b[39m \u001b[38;5;28mself\u001b[39m\u001b[38;5;241m.\u001b[39maxis \u001b[38;5;129;01mor\u001b[39;00m \u001b[38;5;241m0\u001b[39m\n\u001b[0;32m    966\u001b[0m maybe_callable \u001b[38;5;241m=\u001b[39m com\u001b[38;5;241m.\u001b[39mapply_if_callable(key, \u001b[38;5;28mself\u001b[39m\u001b[38;5;241m.\u001b[39mobj)\n\u001b[1;32m--> 967\u001b[0m \u001b[38;5;28;01mreturn\u001b[39;00m \u001b[38;5;28;43mself\u001b[39;49m\u001b[38;5;241;43m.\u001b[39;49m\u001b[43m_getitem_axis\u001b[49m\u001b[43m(\u001b[49m\u001b[43mmaybe_callable\u001b[49m\u001b[43m,\u001b[49m\u001b[43m \u001b[49m\u001b[43maxis\u001b[49m\u001b[38;5;241;43m=\u001b[39;49m\u001b[43maxis\u001b[49m\u001b[43m)\u001b[49m\n",
      "File \u001b[1;32mc:\\users\\dolbosvilli\\appdata\\local\\programs\\python\\python38\\lib\\site-packages\\pandas\\core\\indexing.py:1201\u001b[0m, in \u001b[0;36m_LocIndexer._getitem_axis\u001b[1;34m(self, key, axis)\u001b[0m\n\u001b[0;32m   1198\u001b[0m         \u001b[38;5;28;01mreturn\u001b[39;00m \u001b[38;5;28mself\u001b[39m\u001b[38;5;241m.\u001b[39mobj\u001b[38;5;241m.\u001b[39miloc[\u001b[38;5;28mtuple\u001b[39m(indexer)]\n\u001b[0;32m   1200\u001b[0m \u001b[38;5;66;03m# fall thru to straight lookup\u001b[39;00m\n\u001b[1;32m-> 1201\u001b[0m \u001b[38;5;28;43mself\u001b[39;49m\u001b[38;5;241;43m.\u001b[39;49m\u001b[43m_validate_key\u001b[49m\u001b[43m(\u001b[49m\u001b[43mkey\u001b[49m\u001b[43m,\u001b[49m\u001b[43m \u001b[49m\u001b[43maxis\u001b[49m\u001b[43m)\u001b[49m\n\u001b[0;32m   1202\u001b[0m \u001b[38;5;28;01mreturn\u001b[39;00m \u001b[38;5;28mself\u001b[39m\u001b[38;5;241m.\u001b[39m_get_label(key, axis\u001b[38;5;241m=\u001b[39maxis)\n",
      "File \u001b[1;32mc:\\users\\dolbosvilli\\appdata\\local\\programs\\python\\python38\\lib\\site-packages\\pandas\\core\\indexing.py:1011\u001b[0m, in \u001b[0;36m_LocIndexer._validate_key\u001b[1;34m(self, key, axis)\u001b[0m\n\u001b[0;32m   1001\u001b[0m \u001b[38;5;129m@doc\u001b[39m(_LocationIndexer\u001b[38;5;241m.\u001b[39m_validate_key)\n\u001b[0;32m   1002\u001b[0m \u001b[38;5;28;01mdef\u001b[39;00m \u001b[38;5;21m_validate_key\u001b[39m(\u001b[38;5;28mself\u001b[39m, key, axis: \u001b[38;5;28mint\u001b[39m):\n\u001b[0;32m   1003\u001b[0m     \u001b[38;5;66;03m# valid for a collection of labels (we check their presence later)\u001b[39;00m\n\u001b[0;32m   1004\u001b[0m     \u001b[38;5;66;03m# slice of labels (where start-end in labels)\u001b[39;00m\n\u001b[0;32m   1005\u001b[0m     \u001b[38;5;66;03m# slice of integers (only if in the labels)\u001b[39;00m\n\u001b[0;32m   1006\u001b[0m     \u001b[38;5;66;03m# boolean not in slice and with boolean index\u001b[39;00m\n\u001b[0;32m   1007\u001b[0m     \u001b[38;5;28;01mif\u001b[39;00m \u001b[38;5;28misinstance\u001b[39m(key, \u001b[38;5;28mbool\u001b[39m) \u001b[38;5;129;01mand\u001b[39;00m \u001b[38;5;129;01mnot\u001b[39;00m (\n\u001b[0;32m   1008\u001b[0m         is_bool_dtype(\u001b[38;5;28mself\u001b[39m\u001b[38;5;241m.\u001b[39mobj\u001b[38;5;241m.\u001b[39m_get_axis(axis))\n\u001b[0;32m   1009\u001b[0m         \u001b[38;5;129;01mor\u001b[39;00m \u001b[38;5;28mself\u001b[39m\u001b[38;5;241m.\u001b[39mobj\u001b[38;5;241m.\u001b[39m_get_axis(axis)\u001b[38;5;241m.\u001b[39mdtype\u001b[38;5;241m.\u001b[39mname \u001b[38;5;241m==\u001b[39m \u001b[38;5;124m\"\u001b[39m\u001b[38;5;124mboolean\u001b[39m\u001b[38;5;124m\"\u001b[39m\n\u001b[0;32m   1010\u001b[0m     ):\n\u001b[1;32m-> 1011\u001b[0m         \u001b[38;5;28;01mraise\u001b[39;00m \u001b[38;5;167;01mKeyError\u001b[39;00m(\n\u001b[0;32m   1012\u001b[0m             \u001b[38;5;124mf\u001b[39m\u001b[38;5;124m\"\u001b[39m\u001b[38;5;132;01m{\u001b[39;00mkey\u001b[38;5;132;01m}\u001b[39;00m\u001b[38;5;124m: boolean label can not be used without a boolean index\u001b[39m\u001b[38;5;124m\"\u001b[39m\n\u001b[0;32m   1013\u001b[0m         )\n\u001b[0;32m   1015\u001b[0m     \u001b[38;5;28;01mif\u001b[39;00m \u001b[38;5;28misinstance\u001b[39m(key, \u001b[38;5;28mslice\u001b[39m) \u001b[38;5;129;01mand\u001b[39;00m (\n\u001b[0;32m   1016\u001b[0m         \u001b[38;5;28misinstance\u001b[39m(key\u001b[38;5;241m.\u001b[39mstart, \u001b[38;5;28mbool\u001b[39m) \u001b[38;5;129;01mor\u001b[39;00m \u001b[38;5;28misinstance\u001b[39m(key\u001b[38;5;241m.\u001b[39mstop, \u001b[38;5;28mbool\u001b[39m)\n\u001b[0;32m   1017\u001b[0m     ):\n\u001b[0;32m   1018\u001b[0m         \u001b[38;5;28;01mraise\u001b[39;00m \u001b[38;5;167;01mTypeError\u001b[39;00m(\u001b[38;5;124mf\u001b[39m\u001b[38;5;124m\"\u001b[39m\u001b[38;5;132;01m{\u001b[39;00mkey\u001b[38;5;132;01m}\u001b[39;00m\u001b[38;5;124m: boolean values can not be used in a slice\u001b[39m\u001b[38;5;124m\"\u001b[39m)\n",
      "\u001b[1;31mKeyError\u001b[0m: 'False: boolean label can not be used without a boolean index'"
     ]
    }
   ],
   "source": [
    "rayon = df.loc['m.' in [x[-2:] for x in df['Locations'].tolist()]]\n",
    "rayon"
   ]
  },
  {
   "cell_type": "code",
   "execution_count": 50,
   "id": "b0aaaae0",
   "metadata": {},
   "outputs": [
    {
     "name": "stdout",
     "output_type": "stream",
     "text": [
      "no\n"
     ]
    }
   ],
   "source": [
    "print('yes') if 'm.' in [[y[-2:] for y in x] for x in df['Locations']] else print('no')"
   ]
  },
  {
   "cell_type": "code",
   "execution_count": 60,
   "id": "345cf245",
   "metadata": {},
   "outputs": [
    {
     "name": "stdout",
     "output_type": "stream",
     "text": [
      "yes\n"
     ]
    }
   ],
   "source": [
    "a = ['Memar Acami m.', 'Nasimi r.', '4-cu mikrorayon q.']\n",
    "\n",
    "if 'm.' in [x[-2:] for x in a]:\n",
    "    print('yes')"
   ]
  },
  {
   "cell_type": "code",
   "execution_count": null,
   "id": "e3f47433",
   "metadata": {},
   "outputs": [],
   "source": [
    "metro_df = pd.DataFrame(columns=df.columns)\n",
    "for x, y in df.iterrows():\n",
    "    for loc in y['Locations']:\n",
    "        if loc[-2:] == 'm.':\n",
    "            metro_df = pd.concat([metro_df, df.iloc[x]], ignore_index=True)"
   ]
  },
  {
   "cell_type": "code",
   "execution_count": 97,
   "id": "167948ca",
   "metadata": {},
   "outputs": [
    {
     "data": {
      "text/plain": [
       "ID                                                   2827728\n",
       "Seller                                                 Owner\n",
       "Category                                        Kohna tikili\n",
       "Locations    [Memar Acami m., Nasimi r., 4-cu mikrorayon q.]\n",
       "Price                                                  89500\n",
       "Currency                                                 AZN\n",
       "Rooms                                                      2\n",
       "Area                                                    45.0\n",
       "Floor                                                      3\n",
       "Name: 0, dtype: object"
      ]
     },
     "execution_count": 97,
     "metadata": {},
     "output_type": "execute_result"
    }
   ],
   "source": [
    "df.iloc[0]"
   ]
  },
  {
   "cell_type": "code",
   "execution_count": null,
   "id": "b6e954c5",
   "metadata": {},
   "outputs": [],
   "source": []
  }
 ],
 "metadata": {
  "kernelspec": {
   "display_name": "Python 3 (ipykernel)",
   "language": "python",
   "name": "python3"
  },
  "language_info": {
   "codemirror_mode": {
    "name": "ipython",
    "version": 3
   },
   "file_extension": ".py",
   "mimetype": "text/x-python",
   "name": "python",
   "nbconvert_exporter": "python",
   "pygments_lexer": "ipython3",
   "version": "3.8.9"
  }
 },
 "nbformat": 4,
 "nbformat_minor": 5
}
